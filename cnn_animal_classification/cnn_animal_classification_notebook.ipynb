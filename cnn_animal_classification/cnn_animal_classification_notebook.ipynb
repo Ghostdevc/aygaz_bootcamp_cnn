{
 "cells": [
  {
   "cell_type": "markdown",
   "metadata": {},
   "source": [
    "# Adım 1: Veri Setinin Kullanılması ve Hazırlanması"
   ]
  },
  {
   "cell_type": "code",
   "execution_count": null,
   "metadata": {},
   "outputs": [],
   "source": [
    "import os\n",
    "import cv2\n",
    "import numpy as np\n",
    "import matplotlib.pyplot as plt\n",
    "from sklearn.model_selection import train_test_split\n",
    "from tensorflow.keras.models import Sequential\n",
    "from tensorflow.keras.layers import Conv2D, MaxPooling2D, Flatten, Dense, Dropout\n",
    "from tensorflow.keras.utils import to_categorical\n",
    "from sklearn.metrics import classification_report\n",
    "\n",
    "data_path = \"cnn_animal_classification/data/Animals_with_Attributes2/JPEGImages\"\n",
    "selected_classes = [\"collie\", \"dolphin\", \"elephant\", \"fox\", \"moose\", \n",
    "                    \"rabbit\", \"sheep\", \"squirrel\", \"giant+panda\", \"polar+bear\"]\n",
    "output_path = \"cnn_animal_classification/data/processed_dataset\"\n",
    "image_size = (128, 128)\n",
    "\n",
    "# Veri setini düzenle\n",
    "os.makedirs(output_path, exist_ok=True)\n",
    "for cls in selected_classes:\n",
    "    source_dir = os.path.join(data_path, cls)\n",
    "    target_dir = os.path.join(output_path, cls)\n",
    "    os.makedirs(target_dir, exist_ok=True)\n",
    "    \n",
    "    images = os.listdir(source_dir)[:650]\n",
    "    for img_name in images:\n",
    "        source_img_path = os.path.join(source_dir, img_name)\n",
    "        target_img_path = os.path.join(target_dir, img_name)\n",
    "        \n",
    "        img = cv2.imread(source_img_path)\n",
    "        if img is not None:\n",
    "            img_resized = cv2.resize(img, image_size)\n",
    "            cv2.imwrite(target_img_path, img_resized)\n",
    "\n",
    "print(\"Veri seti hazırlandı ve işlenmiş klasöre kaydedildi.\")"
   ]
  },
  {
   "cell_type": "markdown",
   "metadata": {},
   "source": [
    "# Adım 2: Veri Setini Train-Test Olarak Ayırma ve Normalize Etme\n",
    "processed_dataset klasöründe her bir sınıfın yeniden boyutlandırılmış (128x128) ve normalize edilmemiş ilk 650 görüntüsü olacaktır.\n",
    "X_train ve X_test değişkenleri, normalize edilmiş ve rastgele bölünmüş görüntüleri içerir.\n",
    "y_train ve y_test ise bu görüntülerin sınıf etiketlerini taşır."
   ]
  },
  {
   "cell_type": "code",
   "execution_count": null,
   "metadata": {},
   "outputs": [],
   "source": [
    "X, y = [], []\n",
    "for idx, cls in enumerate(selected_classes):\n",
    "    class_dir = os.path.join(output_path, cls)\n",
    "    for img_name in os.listdir(class_dir):\n",
    "        img_path = os.path.join(class_dir, img_name)\n",
    "        img = cv2.imread(img_path)\n",
    "        if img is not None:\n",
    "            X.append(img / 255.0)\n",
    "            y.append(idx)\n",
    "\n",
    "X = np.array(X)\n",
    "y = np.array(y)\n",
    "X_train, X_test, y_train, y_test = train_test_split(X, y, test_size=0.3, random_state=42)\n",
    "\n",
    "y_train = to_categorical(y_train, num_classes=len(selected_classes))\n",
    "y_test = to_categorical(y_test, num_classes=len(selected_classes))\n",
    "\n",
    "print(f\"Train set boyutu: {len(X_train)}, Test set boyutu: {len(X_test)}\")"
   ]
  },
  {
   "cell_type": "markdown",
   "metadata": {},
   "source": [
    "# Adım 3: CNN Modelinin Tasarlanması\n",
    "CNN modeli 3 konvolüsyon (Conv2D) ve havuzlama (MaxPooling2D) katmanından oluşuyor.\n",
    "Sonrasında bir Flatten katmanı (verileri düzleştirmek için) ve bir Dense tam bağlantılı katman (128 nöron) ekleniyor.\n",
    "Çıkış katmanında, sınıf sayısına eşit (10) nöron ile softmax aktivasyon fonksiyonu kullanılıyor."
   ]
  },
  {
   "cell_type": "code",
   "execution_count": null,
   "metadata": {},
   "outputs": [],
   "source": [
    "model = Sequential([\n",
    "    Conv2D(32, (3, 3), activation='relu', input_shape=(128, 128, 3)),\n",
    "    MaxPooling2D((2, 2)),\n",
    "    Conv2D(64, (3, 3), activation='relu'),\n",
    "    MaxPooling2D((2, 2)),\n",
    "    Conv2D(128, (3, 3), activation='relu'),\n",
    "    MaxPooling2D((2, 2)),\n",
    "    Flatten(),\n",
    "    Dense(128, activation='relu'),\n",
    "    Dropout(0.5),\n",
    "    Dense(len(selected_classes), activation='softmax')\n",
    "])\n",
    "\n",
    "model.compile(optimizer='adam', loss='categorical_crossentropy', metrics=['accuracy'])\n",
    "history = model.fit(X_train, y_train, epochs=10, validation_data=(X_test, y_test), batch_size=32)\n",
    "\n",
    "# Modeli Kaydetme\n",
    "model.save(\"cnn_model.h5\")\n",
    "print(\"Model eğitildi ve kaydedildi.\")"
   ]
  },
  {
   "cell_type": "markdown",
   "metadata": {},
   "source": [
    "# Adım 4: Modelin Test Edilmesi\n",
    "Model, 10 epoch boyunca eğitim alıyor.\n",
    "model.evaluate ile test doğruluğu ve kaybı hesaplanıyor.\n",
    "Eğitim süresince doğruluk (accuracy) ve kayıp (loss) değişimlerini takip etmek için validation_data kullanılıyor."
   ]
  },
  {
   "cell_type": "code",
   "execution_count": null,
   "metadata": {},
   "outputs": [],
   "source": [
    "test_loss, test_accuracy = model.evaluate(X_test, y_test)\n",
    "print(f\"Orijinal test seti doğruluğu: {test_accuracy:.2f}\")"
   ]
  },
  {
   "cell_type": "markdown",
   "metadata": {},
   "source": [
    "# Adım 5: Resimlerin Farklı Işıklar ile Manipüle Edilmesi\n",
    "Manipülasyonlar:\n",
    "\n",
    "brighten_image: Görüntüyü daha parlak yapar.\n",
    "\n",
    "darken_image: Görüntüyü karartır.\n",
    "\n",
    "add_gaussian_noise: Gaussian gürültü ekler."
   ]
  },
  {
   "cell_type": "code",
   "execution_count": null,
   "metadata": {},
   "outputs": [],
   "source": [
    "def get_manipulated_images(input_dir, output_dir, manipulations, selected_classes):\n",
    "    os.makedirs(output_dir, exist_ok=True)\n",
    "    \n",
    "    for cls in selected_classes:\n",
    "        class_dir = os.path.join(input_dir, cls)\n",
    "        if not os.path.exists(class_dir):\n",
    "            continue  # Eğer sınıf dizini yoksa geç\n",
    "\n",
    "        # Sınıf için alt dizin oluştur\n",
    "        class_output_dir = os.path.join(output_dir, cls)\n",
    "        os.makedirs(class_output_dir, exist_ok=True)\n",
    "\n",
    "        for file in os.listdir(class_dir):\n",
    "            img_path = os.path.join(class_dir, file)\n",
    "            img = cv2.imread(img_path)\n",
    "            if img is None:\n",
    "                continue  # Eğer resim okunamazsa, geç\n",
    "\n",
    "            for manipulation in manipulations:\n",
    "                manipulated_img = manipulation(img)\n",
    "                save_path = os.path.join(class_output_dir, f\"{manipulation.__name__}_{file}\")\n",
    "                cv2.imwrite(save_path, manipulated_img)\n",
    "                print(f\"Saved manipulated image: {save_path}\")\n",
    "\n",
    "# Manipülasyon fonksiyonları\n",
    "def brighten_image(img, factor=1.5):\n",
    "    return np.clip(img * factor, 0, 255).astype(np.uint8)\n",
    "\n",
    "def darken_image(img, factor=0.5):\n",
    "    return np.clip(img * factor, 0, 255).astype(np.uint8)\n",
    "\n",
    "def add_gaussian_noise(img):\n",
    "    noise = np.random.normal(0, 25, img.shape)\n",
    "    return np.clip(img + noise, 0, 255).astype(np.uint8)\n",
    "\n",
    "# Manipülasyonlar\n",
    "manipulations = [brighten_image, darken_image, add_gaussian_noise]\n",
    "manipulated_images_dir = \"cnn_animal_classification/data/manipulated_test_images\"\n",
    "\n",
    "# Selected classes (daha önce tanımladığınız)\n",
    "selected_classes = [\"collie\", \"dolphin\", \"elephant\", \"fox\", \"moose\", \n",
    "                    \"rabbit\", \"sheep\", \"squirrel\", \"giant+panda\", \"polar+bear\"]\n",
    "\n",
    "# Manipüle edilmiş görüntüleri oluştur\n",
    "get_manipulated_images(\"cnn_animal_classification/data/processed_dataset\", manipulated_images_dir, manipulations, selected_classes)"
   ]
  },
  {
   "cell_type": "markdown",
   "metadata": {},
   "source": [
    "# Adım 6: Modelin Manipüle Edilmiş Test Seti ile Denenmesi:\n",
    "Manipüle Edilmiş Test Setinin Yüklenmesi:\n",
    "\n",
    "Yeni test setini yüklemek için bir load_images_from_directory fonksiyonu yazıldı.\n",
    "\n",
    "Manipüle Edilmiş Test Performansı:\n",
    "\n",
    "Manipüle edilmiş test setiyle model test edilerek doğruluk oranı raporlandı."
   ]
  },
  {
   "cell_type": "code",
   "execution_count": null,
   "metadata": {},
   "outputs": [],
   "source": [
    "def load_images_from_directory(directory, image_size=(128, 128)):\n",
    "    images = []\n",
    "    labels = []\n",
    "    for idx, cls in enumerate(selected_classes):\n",
    "        class_dir = os.path.join(directory, cls)\n",
    "        if not os.path.exists(class_dir):\n",
    "            continue\n",
    "        for img_name in os.listdir(class_dir):\n",
    "            img_path = os.path.join(class_dir, img_name)\n",
    "            img = cv2.imread(img_path)\n",
    "            if img is not None:\n",
    "                img_resized = cv2.resize(img, image_size) / 255.0\n",
    "                images.append(img_resized)\n",
    "                labels.append(idx)\n",
    "    return np.array(images), np.array(labels)\n",
    "\n",
    "X_test_manipulated, y_test_manipulated = load_images_from_directory(manipulated_images_dir)\n",
    "y_test_manipulated = to_categorical(y_test_manipulated, num_classes=len(selected_classes))\n",
    "\n",
    "print(f\"X_test_manipulated shape: {X_test_manipulated.shape}\")\n",
    "print(f\"X_test_manipulated dtype: {X_test_manipulated.dtype}\")\n",
    "print(f\"y_test_manipulated shape: {y_test_manipulated.shape}\")\n",
    "\n",
    "\n",
    "test_loss_manipulated, test_accuracy_manipulated = model.evaluate(X_test_manipulated, y_test_manipulated)\n",
    "print(f\"Manipüle edilmiş test seti doğruluğu: {test_accuracy_manipulated:.2f}\")"
   ]
  },
  {
   "cell_type": "markdown",
   "metadata": {},
   "source": [
    "# Adım 7-8: Renk Sabitliği Algoritması ve Modelin Test Edilmesi\n",
    "\n",
    "Gray World Algorithm kullanılarak görüntülerin renk kanalları normalize edilir.\n",
    "\n",
    "Görseller işlenmiş olarak wb_images_dir klasörüne kaydedilir. Klasör yapısı (sınıf klasörleri) korunur.\n",
    "\n",
    "Manipüle edilmiş test setine renk sabitliği uygulanmış yeni test seti oluşturulur.\n",
    "\n",
    "Bu set, modeli test etmek için kullanılır ve doğruluk oranı raporlanır."
   ]
  },
  {
   "cell_type": "code",
   "execution_count": null,
   "metadata": {},
   "outputs": [],
   "source": [
    "wb_images_dir = \"cnn_animal_classification/data/wb_test_images\"\n",
    "def get_wb_images(input_dir, output_dir):\n",
    "    os.makedirs(output_dir, exist_ok=True)\n",
    "    for subdir, _, files in os.walk(input_dir):\n",
    "        for file in files:\n",
    "            img_path = os.path.join(subdir, file)\n",
    "            img = cv2.imread(img_path)\n",
    "            if img is None:\n",
    "                continue\n",
    "\n",
    "            mean_rgb = np.mean(img, axis=(0, 1))\n",
    "            scale = np.mean(mean_rgb) / mean_rgb\n",
    "            wb_img = np.clip(img * scale, 0, 255).astype(np.uint8)\n",
    "            \n",
    "            relative_path = os.path.relpath(subdir, input_dir)\n",
    "            save_dir = os.path.join(output_dir, relative_path)\n",
    "            os.makedirs(save_dir, exist_ok=True)\n",
    "            save_path = os.path.join(save_dir, file)\n",
    "            cv2.imwrite(save_path, wb_img)\n",
    "\n",
    "get_wb_images(manipulated_images_dir, wb_images_dir)\n",
    "\n",
    "X_test_wb, y_test_wb = load_images_from_directory(wb_images_dir)\n",
    "y_test_wb = to_categorical(y_test_wb, num_classes=len(selected_classes))\n",
    "\n",
    "test_loss_wb, test_accuracy_wb = model.evaluate(X_test_wb, y_test_wb)\n",
    "print(f\"Renk sabitliği uygulanmış test seti doğruluğu: {test_accuracy_wb:.2f}\")"
   ]
  },
  {
   "cell_type": "markdown",
   "metadata": {},
   "source": [
    "# Adım 9: Performans Karşılaştırması\n",
    "\n",
    "Üç test setinin (orijinal, manipüle edilmiş, renk sabitliği uygulanmış) doğruluk oranları bir grafikte görselleştirilir ve yazdırılır."
   ]
  },
  {
   "cell_type": "code",
   "execution_count": null,
   "metadata": {},
   "outputs": [],
   "source": [
    "def evaluate_and_report():\n",
    "    results = {\n",
    "        \"Orijinal Test Seti\": test_accuracy,\n",
    "        \"Manipüle Edilmiş Test Seti\": test_accuracy_manipulated,\n",
    "        \"Renk Sabitliği Uygulanmış Test Seti\": test_accuracy_wb\n",
    "    }\n",
    "    print(\"\\nPerformans Karşılaştırması:\")\n",
    "    for test_set, accuracy in results.items():\n",
    "        print(f\"{test_set}: {accuracy:.2f}\")\n",
    "\n",
    "    plt.bar(results.keys(), results.values(), color=['blue', 'orange', 'green'])\n",
    "    plt.xlabel(\"Test Setleri\")\n",
    "    plt.ylabel(\"Doğruluk\")\n",
    "    plt.title(\"Farklı Test Setleri Performans Karşılaştırması\")\n",
    "    plt.show()\n",
    "\n",
    "evaluate_and_report()"
   ]
  }
 ],
 "metadata": {
  "language_info": {
   "name": "python"
  }
 },
 "nbformat": 4,
 "nbformat_minor": 2
}
